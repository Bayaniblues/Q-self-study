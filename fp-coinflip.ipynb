{
 "cells": [
  {
   "cell_type": "code",
   "execution_count": 1,
   "metadata": {},
   "outputs": [],
   "source": [
    "from qiskit import *\n",
    "M_simulator = Aer.backends(name=\"qasm_simulator\")[0]\n",
    "qr = QuantumRegister(1)\n",
    "cr = ClassicalRegister(1)\n",
    "circuit = QuantumCircuit(qr, cr)\n"
   ]
  },
  {
   "cell_type": "code",
   "execution_count": null,
   "metadata": {},
   "outputs": [],
   "source": []
  },
  {
   "cell_type": "code",
   "execution_count": 2,
   "metadata": {},
   "outputs": [],
   "source": [
    "def coin_toss(flips):\n",
    "    coin_toss.h = circuit.h(qr[0])\n",
    "    coin_toss.measure = circuit.measure(qr,cr)\n",
    "    M = execute(circuit, M_simulator, shots=flips).result().get_counts(circuit)\n",
    "    heads = M['0']\n",
    "    tails = M['1']\n",
    "    return heads,tails"
   ]
  },
  {
   "cell_type": "code",
   "execution_count": 3,
   "metadata": {},
   "outputs": [],
   "source": [
    "def run_coin_toss():\n",
    "    Heads,Tails = coin_toss(100)\n",
    "    if(Heads > Tails):\n",
    "        print('Heads Wins')\n",
    "    if(Heads < Tails):\n",
    "        print('Tails Wins')\n",
    "    if(Heads == Tails):\n",
    "        print('Both Heads and Tails Wins')\n",
    "    print('Final Score| Heads:',Heads, 'Tails',Tails)"
   ]
  },
  {
   "cell_type": "code",
   "execution_count": 4,
   "metadata": {},
   "outputs": [],
   "source": [
    "def run_classical():\n",
    "    %matplotlib inline\n",
    "    run_coin_toss()\n",
    "    simulator = Aer.get_backend('qasm_simulator')\n",
    "    result = execute(circuit, backend = simulator).result()\n",
    "    from qiskit.tools.visualization import plot_histogram\n",
    "    draw_graph = plot_histogram(result.get_counts(circuit))\n",
    "    return draw_graph"
   ]
  },
  {
   "cell_type": "code",
   "execution_count": 5,
   "metadata": {},
   "outputs": [],
   "source": [
    "def draw_circuit():\n",
    "    my_circuit = circuit.draw(output='mpl')\n",
    "    return my_circuit"
   ]
  },
  {
   "cell_type": "code",
   "execution_count": 8,
   "metadata": {},
   "outputs": [
    {
     "name": "stdout",
     "output_type": "stream",
     "text": [
      "Both Heads and Tails Wins\n",
      "Final Score| Heads: 50 Tails 50\n"
     ]
    },
    {
     "data": {
      "image/png": "[encoded data removed]",
      "text/plain": [
       "<Figure size 504x360 with 1 Axes>"
      ]
     },
     "execution_count": 8,
     "metadata": {},
     "output_type": "execute_result"
    }
   ],
   "source": [
    "run_classical()"
   ]
  },
  {
   "cell_type": "code",
   "execution_count": 18,
   "metadata": {},
   "outputs": [
    {
     "data": {
      "image/png": "[encoded data removed]",
      "text/plain": [
       "<Figure size 244.412x144.48 with 1 Axes>"
      ]
     },
     "execution_count": 18,
     "metadata": {},
     "output_type": "execute_result"
    }
   ],
   "source": [
    "draw_circuit()"
   ]
  },
  {
   "cell_type": "code",
   "execution_count": 19,
   "metadata": {},
   "outputs": [],
   "source": [
    "def run_quantum():\n",
    "    %matplotlib inline\n",
    "    from qiskit.tools.monitor import job_monitor\n",
    "    from qiskit.tools.visualization import plot_histogram\n",
    "\n",
    "    IBMQ.load_account()\n",
    "    provider = IBMQ.get_provider('ibm-q')\n",
    "    qcomp = provider.get_backend('ibmq_burlington')\n",
    "    job = execute(circuit, backend=qcomp)\n",
    "    job_monitor(job)\n",
    "    result = job.result()\n",
    "    draw_graph = plot_histogram(result.get_counts(circuit))\n",
    "    return draw_graph"
   ]
  },
  {
   "cell_type": "code",
   "execution_count": 20,
   "metadata": {},
   "outputs": [
    {
     "name": "stderr",
     "output_type": "stream",
     "text": [
      "Credentials are already in use. The existing account in the session will be replaced.\n"
     ]
    },
    {
     "name": "stdout",
     "output_type": "stream",
     "text": [
      "Job Status: job has successfully run\n"
     ]
    },
    {
     "data": {
      "image/png": "[encoded data removed]",
      "text/plain": [
       "<Figure size 504x360 with 1 Axes>"
      ]
     },
     "execution_count": 20,
     "metadata": {},
     "output_type": "execute_result"
    }
   ],
   "source": [
    "run_quantum()"
   ]
  },
  {
   "cell_type": "code",
   "execution_count": null,
   "metadata": {},
   "outputs": [],
   "source": []
  }
 ],
 "metadata": {
  "kernelspec": {
   "display_name": "Python 3",
   "language": "python",
   "name": "python3"
  },
  "language_info": {
   "codemirror_mode": {
    "name": "ipython",
    "version": 3
   },
   "file_extension": ".py",
   "mimetype": "text/x-python",
   "name": "python",
   "nbconvert_exporter": "python",
   "pygments_lexer": "ipython3",
   "version": "3.7.4"
  }
 },
 "nbformat": 4,
 "nbformat_minor": 2
}
