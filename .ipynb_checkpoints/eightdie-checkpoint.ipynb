{
 "cells": [
  {
   "cell_type": "code",
   "execution_count": null,
   "metadata": {},
   "outputs": [],
   "source": [
    "def random_eight_dice():\n",
    "    qc = QuantumCircuit(3, 3)\n",
    "    qc.h(0)\n",
    "    qc.h(1)\n",
    "    qc.h(2)\n",
    "    qc.measure([0, 1, 2], [0, 1, 2]) \n",
    "    print(qc.draw())\n",
    "    def run_classical():\n",
    "        %matplotlib inline\n",
    "        simulator = Aer.get_backend('qasm_simulator')\n",
    "        shots = 1024\n",
    "        result = execute(qc, backend = simulator, shots=shots, memory=True).result()\n",
    "        memory = result.get_memory()\n",
    "        outputArray = []\n",
    "        for x in range(0, shots):\n",
    "            if memory[x] == '000':\n",
    "                print (\"0\")\n",
    "            elif memory[x] == '001':\n",
    "                print (memory[x])\n",
    "            elif memory[x] == '010':\n",
    "                print (memory[x])\n",
    "            elif memory[x] == '011':\n",
    "                print (memory[x])\n",
    "            elif memory[x] == '100':\n",
    "                print (memory[x])\n",
    "            elif memory[x] == '101':\n",
    "                print (memory[x])\n",
    "            elif memory[x] == '110':\n",
    "                print (memory[x])\n",
    "            else:\n",
    "                print (memory[x])\n",
    "\n",
    "            print (memory[x])\n",
    "\n",
    "        return memory\n",
    "\n",
    "\n",
    "    run_classical()"
   ]
  }
 ],
 "metadata": {
  "kernelspec": {
   "display_name": "Python 3",
   "language": "python",
   "name": "python3"
  },
  "language_info": {
   "codemirror_mode": {
    "name": "ipython",
    "version": 3
   },
   "file_extension": ".py",
   "mimetype": "text/x-python",
   "name": "python",
   "nbconvert_exporter": "python",
   "pygments_lexer": "ipython3",
   "version": "3.7.4"
  }
 },
 "nbformat": 4,
 "nbformat_minor": 2
}
